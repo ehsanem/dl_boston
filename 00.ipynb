{
  "nbformat": 4,
  "nbformat_minor": 0,
  "metadata": {
    "colab": {
      "name": "00.ipynb",
      "provenance": [],
      "collapsed_sections": [],
      "authorship_tag": "ABX9TyObwhKXWANoEvhotTO/rw6r",
      "include_colab_link": true
    },
    "kernelspec": {
      "name": "python3",
      "display_name": "Python 3"
    },
    "language_info": {
      "name": "python"
    }
  },
  "cells": [
    {
      "cell_type": "markdown",
      "metadata": {
        "id": "view-in-github",
        "colab_type": "text"
      },
      "source": [
        "<a href=\"https://colab.research.google.com/github/ehsanem/dl_boston/blob/main/00.ipynb\" target=\"_parent\"><img src=\"https://colab.research.google.com/assets/colab-badge.svg\" alt=\"Open In Colab\"/></a>"
      ]
    },
    {
      "cell_type": "code",
      "execution_count": 1,
      "metadata": {
        "colab": {
          "base_uri": "https://localhost:8080/"
        },
        "id": "vouM8XaFiydw",
        "outputId": "eec244ad-7135-4083-ddc6-afe127cf31f7"
      },
      "outputs": [
        {
          "output_type": "stream",
          "name": "stdout",
          "text": [
            "2.8.0\n"
          ]
        }
      ],
      "source": [
        "import tensorflow as tf\n",
        "from sklearn.datasets import load_boston\n",
        "from sklearn.model_selection import train_test_split \n",
        "import pandas as pd\n",
        "from matplotlib import pyplot as plt\n",
        "print(tf.__version__)"
      ]
    },
    {
      "cell_type": "code",
      "source": [
        "boston_original = load_boston()"
      ],
      "metadata": {
        "colab": {
          "base_uri": "https://localhost:8080/"
        },
        "id": "pZjoi8YkwldG",
        "outputId": "c3444dae-8405-4f2a-9c15-a883c32b95ee"
      },
      "execution_count": null,
      "outputs": [
        {
          "output_type": "stream",
          "name": "stderr",
          "text": [
            "/usr/local/lib/python3.7/dist-packages/sklearn/utils/deprecation.py:87: FutureWarning: Function load_boston is deprecated; `load_boston` is deprecated in 1.0 and will be removed in 1.2.\n",
            "\n",
            "    The Boston housing prices dataset has an ethical problem. You can refer to\n",
            "    the documentation of this function for further details.\n",
            "\n",
            "    The scikit-learn maintainers therefore strongly discourage the use of this\n",
            "    dataset unless the purpose of the code is to study and educate about\n",
            "    ethical issues in data science and machine learning.\n",
            "\n",
            "    In this special case, you can fetch the dataset from the original\n",
            "    source::\n",
            "\n",
            "        import pandas as pd\n",
            "        import numpy as np\n",
            "\n",
            "\n",
            "        data_url = \"http://lib.stat.cmu.edu/datasets/boston\"\n",
            "        raw_df = pd.read_csv(data_url, sep=\"\\s+\", skiprows=22, header=None)\n",
            "        data = np.hstack([raw_df.values[::2, :], raw_df.values[1::2, :2]])\n",
            "        target = raw_df.values[1::2, 2]\n",
            "\n",
            "    Alternative datasets include the California housing dataset (i.e.\n",
            "    :func:`~sklearn.datasets.fetch_california_housing`) and the Ames housing\n",
            "    dataset. You can load the datasets as follows::\n",
            "\n",
            "        from sklearn.datasets import fetch_california_housing\n",
            "        housing = fetch_california_housing()\n",
            "\n",
            "    for the California housing dataset and::\n",
            "\n",
            "        from sklearn.datasets import fetch_openml\n",
            "        housing = fetch_openml(name=\"house_prices\", as_frame=True)\n",
            "\n",
            "    for the Ames housing dataset.\n",
            "    \n",
            "  warnings.warn(msg, category=FutureWarning)\n"
          ]
        }
      ]
    },
    {
      "cell_type": "code",
      "source": [
        "boston_original.keys()"
      ],
      "metadata": {
        "colab": {
          "base_uri": "https://localhost:8080/"
        },
        "id": "baZN8Ca0gJtB",
        "outputId": "3b0edbc2-78b8-430a-f8d8-9861801f54c6"
      },
      "execution_count": null,
      "outputs": [
        {
          "output_type": "execute_result",
          "data": {
            "text/plain": [
              "dict_keys(['data', 'target', 'feature_names', 'DESCR', 'filename', 'data_module'])"
            ]
          },
          "metadata": {},
          "execution_count": 6
        }
      ]
    },
    {
      "cell_type": "code",
      "source": [
        "boston_dataset = pd.DataFrame(boston_original['data'])"
      ],
      "metadata": {
        "id": "eSzIP68ghOnn"
      },
      "execution_count": null,
      "outputs": []
    },
    {
      "cell_type": "code",
      "source": [
        "boston_dataset.columns = boston_original['feature_names']"
      ],
      "metadata": {
        "id": "TabIiLz5h6NY"
      },
      "execution_count": null,
      "outputs": []
    },
    {
      "cell_type": "code",
      "source": [
        "boston_dataset['PRICE'] = boston_original['target']"
      ],
      "metadata": {
        "id": "tV6wHs4Eh7Z1"
      },
      "execution_count": null,
      "outputs": []
    },
    {
      "cell_type": "code",
      "source": [
        "y = boston_dataset['PRICE']\n",
        "X= boston_dataset.iloc[:,0:13]"
      ],
      "metadata": {
        "id": "bT_iymWRmPFO"
      },
      "execution_count": null,
      "outputs": []
    },
    {
      "cell_type": "code",
      "source": [
        "X_train, X_test, y_train, y_test = train_test_split(X, y, test_size=0.3,random_state=0)"
      ],
      "metadata": {
        "id": "xre2mKjviITF"
      },
      "execution_count": null,
      "outputs": []
    },
    {
      "cell_type": "code",
      "source": [
        "X_train_tensor = tf.constant(X_train)\n",
        "X_test_tensor = tf.constant(X_test)\n",
        "y_train_tensor = tf.constant(y_train)\n",
        "y_test_tensor = tf.constant(y_test)"
      ],
      "metadata": {
        "id": "-TWm7bG0lehD"
      },
      "execution_count": null,
      "outputs": []
    },
    {
      "cell_type": "code",
      "source": [
        "model = tf.keras.Sequential()\n",
        "model.add(tf.keras.layers.Dense(100))\n",
        "model.add(tf.keras.layers.Dense(1))\n",
        "model.compile(optimizer='Adam', loss='mae', metrics='mae')"
      ],
      "metadata": {
        "id": "e_wWyrvjn0EB"
      },
      "execution_count": null,
      "outputs": []
    },
    {
      "cell_type": "code",
      "source": [
        "model.fit(X_train_tensor, y_train_tensor, epochs=100)"
      ],
      "metadata": {
        "colab": {
          "base_uri": "https://localhost:8080/"
        },
        "id": "CM7vUSFsoACj",
        "outputId": "ed8b2761-2b32-43c9-8e3b-9ea12b4fe92c"
      },
      "execution_count": null,
      "outputs": [
        {
          "output_type": "stream",
          "name": "stdout",
          "text": [
            "Epoch 1/100\n",
            "12/12 [==============================] - 0s 2ms/step - loss: 62.9948 - mae: 62.9948\n",
            "Epoch 2/100\n",
            "12/12 [==============================] - 0s 2ms/step - loss: 19.0799 - mae: 19.0799\n",
            "Epoch 3/100\n",
            "12/12 [==============================] - 0s 2ms/step - loss: 12.9441 - mae: 12.9441\n",
            "Epoch 4/100\n",
            "12/12 [==============================] - 0s 3ms/step - loss: 7.5886 - mae: 7.5886\n",
            "Epoch 5/100\n",
            "12/12 [==============================] - 0s 2ms/step - loss: 6.9123 - mae: 6.9123\n",
            "Epoch 6/100\n",
            "12/12 [==============================] - 0s 2ms/step - loss: 7.1595 - mae: 7.1595\n",
            "Epoch 7/100\n",
            "12/12 [==============================] - 0s 3ms/step - loss: 6.2523 - mae: 6.2523\n",
            "Epoch 8/100\n",
            "12/12 [==============================] - 0s 3ms/step - loss: 6.9515 - mae: 6.9515\n",
            "Epoch 9/100\n",
            "12/12 [==============================] - 0s 2ms/step - loss: 6.4117 - mae: 6.4117\n",
            "Epoch 10/100\n",
            "12/12 [==============================] - 0s 2ms/step - loss: 6.3134 - mae: 6.3134\n",
            "Epoch 11/100\n",
            "12/12 [==============================] - 0s 2ms/step - loss: 6.2523 - mae: 6.2523\n",
            "Epoch 12/100\n",
            "12/12 [==============================] - 0s 2ms/step - loss: 6.4888 - mae: 6.4888\n",
            "Epoch 13/100\n",
            "12/12 [==============================] - 0s 2ms/step - loss: 6.5605 - mae: 6.5605\n",
            "Epoch 14/100\n",
            "12/12 [==============================] - 0s 2ms/step - loss: 7.7022 - mae: 7.7022\n",
            "Epoch 15/100\n",
            "12/12 [==============================] - 0s 3ms/step - loss: 5.8846 - mae: 5.8846\n",
            "Epoch 16/100\n",
            "12/12 [==============================] - 0s 2ms/step - loss: 6.0574 - mae: 6.0574\n",
            "Epoch 17/100\n",
            "12/12 [==============================] - 0s 3ms/step - loss: 6.2039 - mae: 6.2039\n",
            "Epoch 18/100\n",
            "12/12 [==============================] - 0s 2ms/step - loss: 6.3685 - mae: 6.3685\n",
            "Epoch 19/100\n",
            "12/12 [==============================] - 0s 2ms/step - loss: 5.9534 - mae: 5.9534\n",
            "Epoch 20/100\n",
            "12/12 [==============================] - 0s 2ms/step - loss: 5.5087 - mae: 5.5087\n",
            "Epoch 21/100\n",
            "12/12 [==============================] - 0s 2ms/step - loss: 6.4927 - mae: 6.4927\n",
            "Epoch 22/100\n",
            "12/12 [==============================] - 0s 2ms/step - loss: 6.8407 - mae: 6.8407\n",
            "Epoch 23/100\n",
            "12/12 [==============================] - 0s 2ms/step - loss: 6.0819 - mae: 6.0819\n",
            "Epoch 24/100\n",
            "12/12 [==============================] - 0s 3ms/step - loss: 6.1024 - mae: 6.1024\n",
            "Epoch 25/100\n",
            "12/12 [==============================] - 0s 2ms/step - loss: 5.9239 - mae: 5.9239\n",
            "Epoch 26/100\n",
            "12/12 [==============================] - 0s 2ms/step - loss: 5.6449 - mae: 5.6449\n",
            "Epoch 27/100\n",
            "12/12 [==============================] - 0s 2ms/step - loss: 5.3986 - mae: 5.3986\n",
            "Epoch 28/100\n",
            "12/12 [==============================] - 0s 2ms/step - loss: 5.5515 - mae: 5.5515\n",
            "Epoch 29/100\n",
            "12/12 [==============================] - 0s 2ms/step - loss: 7.5151 - mae: 7.5151\n",
            "Epoch 30/100\n",
            "12/12 [==============================] - 0s 2ms/step - loss: 5.7520 - mae: 5.7520\n",
            "Epoch 31/100\n",
            "12/12 [==============================] - 0s 2ms/step - loss: 5.3673 - mae: 5.3673\n",
            "Epoch 32/100\n",
            "12/12 [==============================] - 0s 3ms/step - loss: 5.7253 - mae: 5.7253\n",
            "Epoch 33/100\n",
            "12/12 [==============================] - 0s 2ms/step - loss: 5.8025 - mae: 5.8025\n",
            "Epoch 34/100\n",
            "12/12 [==============================] - 0s 2ms/step - loss: 6.2610 - mae: 6.2610\n",
            "Epoch 35/100\n",
            "12/12 [==============================] - 0s 2ms/step - loss: 6.3620 - mae: 6.3620\n",
            "Epoch 36/100\n",
            "12/12 [==============================] - 0s 2ms/step - loss: 7.3541 - mae: 7.3541\n",
            "Epoch 37/100\n",
            "12/12 [==============================] - 0s 2ms/step - loss: 7.1399 - mae: 7.1399\n",
            "Epoch 38/100\n",
            "12/12 [==============================] - 0s 2ms/step - loss: 6.1022 - mae: 6.1022\n",
            "Epoch 39/100\n",
            "12/12 [==============================] - 0s 2ms/step - loss: 5.2482 - mae: 5.2482\n",
            "Epoch 40/100\n",
            "12/12 [==============================] - 0s 2ms/step - loss: 5.7031 - mae: 5.7031\n",
            "Epoch 41/100\n",
            "12/12 [==============================] - 0s 2ms/step - loss: 5.5566 - mae: 5.5566\n",
            "Epoch 42/100\n",
            "12/12 [==============================] - 0s 3ms/step - loss: 5.4555 - mae: 5.4555\n",
            "Epoch 43/100\n",
            "12/12 [==============================] - 0s 3ms/step - loss: 5.2787 - mae: 5.2787\n",
            "Epoch 44/100\n",
            "12/12 [==============================] - 0s 3ms/step - loss: 6.1980 - mae: 6.1980\n",
            "Epoch 45/100\n",
            "12/12 [==============================] - 0s 2ms/step - loss: 7.3510 - mae: 7.3510\n",
            "Epoch 46/100\n",
            "12/12 [==============================] - 0s 2ms/step - loss: 7.1999 - mae: 7.1999\n",
            "Epoch 47/100\n",
            "12/12 [==============================] - 0s 2ms/step - loss: 6.5595 - mae: 6.5595\n",
            "Epoch 48/100\n",
            "12/12 [==============================] - 0s 2ms/step - loss: 5.8743 - mae: 5.8743\n",
            "Epoch 49/100\n",
            "12/12 [==============================] - 0s 2ms/step - loss: 5.6530 - mae: 5.6530\n",
            "Epoch 50/100\n",
            "12/12 [==============================] - 0s 2ms/step - loss: 8.0605 - mae: 8.0605\n",
            "Epoch 51/100\n",
            "12/12 [==============================] - 0s 2ms/step - loss: 7.3433 - mae: 7.3433\n",
            "Epoch 52/100\n",
            "12/12 [==============================] - 0s 2ms/step - loss: 4.9932 - mae: 4.9932\n",
            "Epoch 53/100\n",
            "12/12 [==============================] - 0s 2ms/step - loss: 5.1196 - mae: 5.1196\n",
            "Epoch 54/100\n",
            "12/12 [==============================] - 0s 2ms/step - loss: 4.8565 - mae: 4.8565\n",
            "Epoch 55/100\n",
            "12/12 [==============================] - 0s 2ms/step - loss: 4.7223 - mae: 4.7223\n",
            "Epoch 56/100\n",
            "12/12 [==============================] - 0s 2ms/step - loss: 5.0842 - mae: 5.0842\n",
            "Epoch 57/100\n",
            "12/12 [==============================] - 0s 2ms/step - loss: 5.2095 - mae: 5.2095\n",
            "Epoch 58/100\n",
            "12/12 [==============================] - 0s 2ms/step - loss: 5.4279 - mae: 5.4279\n",
            "Epoch 59/100\n",
            "12/12 [==============================] - 0s 2ms/step - loss: 4.9292 - mae: 4.9292\n",
            "Epoch 60/100\n",
            "12/12 [==============================] - 0s 2ms/step - loss: 5.8203 - mae: 5.8203\n",
            "Epoch 61/100\n",
            "12/12 [==============================] - 0s 2ms/step - loss: 6.8411 - mae: 6.8411\n",
            "Epoch 62/100\n",
            "12/12 [==============================] - 0s 2ms/step - loss: 5.1831 - mae: 5.1831\n",
            "Epoch 63/100\n",
            "12/12 [==============================] - 0s 2ms/step - loss: 5.5013 - mae: 5.5013\n",
            "Epoch 64/100\n",
            "12/12 [==============================] - 0s 3ms/step - loss: 7.0242 - mae: 7.0242\n",
            "Epoch 65/100\n",
            "12/12 [==============================] - 0s 2ms/step - loss: 5.1279 - mae: 5.1279\n",
            "Epoch 66/100\n",
            "12/12 [==============================] - 0s 2ms/step - loss: 4.8061 - mae: 4.8061\n",
            "Epoch 67/100\n",
            "12/12 [==============================] - 0s 3ms/step - loss: 5.5609 - mae: 5.5609\n",
            "Epoch 68/100\n",
            "12/12 [==============================] - 0s 3ms/step - loss: 5.8997 - mae: 5.8997\n",
            "Epoch 69/100\n",
            "12/12 [==============================] - 0s 3ms/step - loss: 4.7441 - mae: 4.7441\n",
            "Epoch 70/100\n",
            "12/12 [==============================] - 0s 3ms/step - loss: 4.6350 - mae: 4.6350\n",
            "Epoch 71/100\n",
            "12/12 [==============================] - 0s 3ms/step - loss: 4.8383 - mae: 4.8383\n",
            "Epoch 72/100\n",
            "12/12 [==============================] - 0s 3ms/step - loss: 4.5489 - mae: 4.5489\n",
            "Epoch 73/100\n",
            "12/12 [==============================] - 0s 3ms/step - loss: 4.4928 - mae: 4.4928\n",
            "Epoch 74/100\n",
            "12/12 [==============================] - 0s 3ms/step - loss: 4.9215 - mae: 4.9215\n",
            "Epoch 75/100\n",
            "12/12 [==============================] - 0s 2ms/step - loss: 4.6031 - mae: 4.6031\n",
            "Epoch 76/100\n",
            "12/12 [==============================] - 0s 2ms/step - loss: 4.5530 - mae: 4.5530\n",
            "Epoch 77/100\n",
            "12/12 [==============================] - 0s 2ms/step - loss: 5.0468 - mae: 5.0468\n",
            "Epoch 78/100\n",
            "12/12 [==============================] - 0s 2ms/step - loss: 4.5936 - mae: 4.5936\n",
            "Epoch 79/100\n",
            "12/12 [==============================] - 0s 3ms/step - loss: 4.4377 - mae: 4.4377\n",
            "Epoch 80/100\n",
            "12/12 [==============================] - 0s 3ms/step - loss: 4.6803 - mae: 4.6803\n",
            "Epoch 81/100\n",
            "12/12 [==============================] - 0s 3ms/step - loss: 5.7054 - mae: 5.7054\n",
            "Epoch 82/100\n",
            "12/12 [==============================] - 0s 2ms/step - loss: 5.3130 - mae: 5.3130\n",
            "Epoch 83/100\n",
            "12/12 [==============================] - 0s 2ms/step - loss: 4.6447 - mae: 4.6447\n",
            "Epoch 84/100\n",
            "12/12 [==============================] - 0s 2ms/step - loss: 4.8435 - mae: 4.8435\n",
            "Epoch 85/100\n",
            "12/12 [==============================] - 0s 2ms/step - loss: 4.4073 - mae: 4.4073\n",
            "Epoch 86/100\n",
            "12/12 [==============================] - 0s 2ms/step - loss: 5.1661 - mae: 5.1661\n",
            "Epoch 87/100\n",
            "12/12 [==============================] - 0s 2ms/step - loss: 5.0953 - mae: 5.0953\n",
            "Epoch 88/100\n",
            "12/12 [==============================] - 0s 2ms/step - loss: 5.1545 - mae: 5.1545\n",
            "Epoch 89/100\n",
            "12/12 [==============================] - 0s 2ms/step - loss: 5.5137 - mae: 5.5137\n",
            "Epoch 90/100\n",
            "12/12 [==============================] - 0s 2ms/step - loss: 5.0778 - mae: 5.0778\n",
            "Epoch 91/100\n",
            "12/12 [==============================] - 0s 2ms/step - loss: 4.6492 - mae: 4.6492\n",
            "Epoch 92/100\n",
            "12/12 [==============================] - 0s 2ms/step - loss: 5.1072 - mae: 5.1072\n",
            "Epoch 93/100\n",
            "12/12 [==============================] - 0s 3ms/step - loss: 4.3378 - mae: 4.3378\n",
            "Epoch 94/100\n",
            "12/12 [==============================] - 0s 3ms/step - loss: 4.4668 - mae: 4.4668\n",
            "Epoch 95/100\n",
            "12/12 [==============================] - 0s 3ms/step - loss: 4.4302 - mae: 4.4302\n",
            "Epoch 96/100\n",
            "12/12 [==============================] - 0s 3ms/step - loss: 4.3502 - mae: 4.3502\n",
            "Epoch 97/100\n",
            "12/12 [==============================] - 0s 2ms/step - loss: 5.0037 - mae: 5.0037\n",
            "Epoch 98/100\n",
            "12/12 [==============================] - 0s 3ms/step - loss: 4.3117 - mae: 4.3117\n",
            "Epoch 99/100\n",
            "12/12 [==============================] - 0s 3ms/step - loss: 4.5784 - mae: 4.5784\n",
            "Epoch 100/100\n",
            "12/12 [==============================] - 0s 2ms/step - loss: 4.5796 - mae: 4.5796\n"
          ]
        },
        {
          "output_type": "execute_result",
          "data": {
            "text/plain": [
              "<keras.callbacks.History at 0x7f42dd86b610>"
            ]
          },
          "metadata": {},
          "execution_count": 65
        }
      ]
    },
    {
      "cell_type": "code",
      "source": [
        "plt.plot(model.predict(X_test_tensor), color='green')\n",
        "plt.plot(y_test_tensor, color='blue')\n",
        "plt.show()"
      ],
      "metadata": {
        "colab": {
          "base_uri": "https://localhost:8080/",
          "height": 265
        },
        "id": "CPnM8u_Wq17L",
        "outputId": "5243e717-cb7a-4f22-b091-ef8c78d3ff5e"
      },
      "execution_count": null,
      "outputs": [
        {
          "output_type": "display_data",
          "data": {
            "text/plain": [
              "<Figure size 432x288 with 1 Axes>"
            ],
            "image/png": "[encoded data removed]"
          },
          "metadata": {
            "needs_background": "light"
          }
        }
      ]
    },
    {
      "cell_type": "code",
      "source": [
        "model.summary()"
      ],
      "metadata": {
        "colab": {
          "base_uri": "https://localhost:8080/"
        },
        "id": "AlOD8RMBtxWx",
        "outputId": "17b29316-50b8-46ef-982b-8719a3769241"
      },
      "execution_count": null,
      "outputs": [
        {
          "output_type": "stream",
          "name": "stdout",
          "text": [
            "Model: \"sequential_6\"\n",
            "_________________________________________________________________\n",
            " Layer (type)                Output Shape              Param #   \n",
            "=================================================================\n",
            " dense_8 (Dense)             (None, 100)               1400      \n",
            "                                                                 \n",
            " dense_9 (Dense)             (None, 1)                 101       \n",
            "                                                                 \n",
            "=================================================================\n",
            "Total params: 1,501\n",
            "Trainable params: 1,501\n",
            "Non-trainable params: 0\n",
            "_________________________________________________________________\n"
          ]
        }
      ]
    },
    {
      "cell_type": "code",
      "source": [
        ""
      ],
      "metadata": {
        "id": "EiwNKCxULYjk"
      },
      "execution_count": null,
      "outputs": []
    }
  ]
}